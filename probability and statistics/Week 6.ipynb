{
 "cells": [
  {
   "cell_type": "code",
   "execution_count": 1,
   "metadata": {},
   "outputs": [
    {
     "name": "stdout",
     "output_type": "stream",
     "text": [
      "Urn A:\n",
      "Enter number of red balls in Urn A:5\n",
      "Enter number of white balls in Urn A:8\n",
      "Urn B:\n",
      "Enter number of red balls in Urn B:3\n",
      "Enter number of white balls in Urn B:7\n",
      "Probability of one white ball from urn A(Aw):\n",
      "0.46783625730994155\n"
     ]
    }
   ],
   "source": [
    "print(\"Urn A:\")\n",
    "Ar=int(input(\"Enter number of red balls in Urn A:\"))\n",
    "Aw=int(input(\"Enter number of white balls in Urn A:\"))\n",
    "print(\"Urn B:\")\n",
    "Br=int(input(\"Enter number of red balls in Urn B:\"))\n",
    "Bw=int(input(\"Enter number of white balls in Urn B:\"))\n",
    "def conditional_probability(Ar,Aw,Br,Bw):\n",
    "  Pro_A,Pro_B=1/2,1/2  #probability of one urn in either A or B.\n",
    "  print(\"Probability of one white ball from urn A(Aw):\")\n",
    "  Pro_Aw=(Pro_A*(Aw/(Ar+Aw)))/(Pro_A*(Aw/(Ar+Aw))+Pro_B*(Bw/(Br+Bw)))\n",
    "  print(Pro_Aw)\n",
    "conditional_probability(Ar,Aw,Br,Bw) "
   ]
  },
  {
   "cell_type": "code",
   "execution_count": 8,
   "metadata": {},
   "outputs": [
    {
     "name": "stdout",
     "output_type": "stream",
     "text": [
      "Enter correct supplier of defective part is from(X,Y,Z):Z\n",
      "enter t1:24\n",
      "enter t2:36\n",
      "enter t3:40\n",
      "enter d1:5\n",
      "enter d2:10\n",
      "enter d3:6\n",
      "probability of defective part from  Z\n",
      "0.3333333333333333\n"
     ]
    }
   ],
   "source": [
    "def probability(k):\n",
    "  #p_x,p_y,p_z=24/100,36/100,40/100\n",
    "  #d_x,d_y,d_z=5/100,10/100,6/100\n",
    "    t1=int(input(\"enter t1:\"))\n",
    "    t2=int(input(\"enter t2:\"))\n",
    "    t3=int(input(\"enter t3:\"))\n",
    "    d1=int(input(\"enter d1:\"))\n",
    "    d2=int(input(\"enter d2:\"))\n",
    "    d3=int(input(\"enter d3:\"))\n",
    "    p_x,p_y,p_z=t1/100,t2/100,t3/100\n",
    "    d_x,d_y,d_z= d1/100,d2/100,d3/100\n",
    "    total_prob=(p_x*d_x)+(p_y*d_y)+(p_z*d_z)\n",
    "    if (k==\"X\"):\n",
    "        return (p_x*d_x)/total_prob\n",
    "    elif (k==\"Y\"):\n",
    "        return (p_y*d_y)/total_prob\n",
    "    elif (k==\"Z\"):\n",
    "        return (p_z*d_z)/total_prob  \n",
    "    else:\n",
    "        print(\"enter the correct supplier\") \n",
    "        return 0\n",
    "k=input(\"Enter correct supplier of defective part is from(X,Y,Z):\")\n",
    "P=probability(k)\n",
    "print(\"probability of defective part from \",k)\n",
    "print(P)"
   ]
  },
  {
   "cell_type": "code",
   "execution_count": null,
   "metadata": {},
   "outputs": [],
   "source": []
  }
 ],
 "metadata": {
  "kernelspec": {
   "display_name": "Python 3",
   "language": "python",
   "name": "python3"
  },
  "language_info": {
   "codemirror_mode": {
    "name": "ipython",
    "version": 3
   },
   "file_extension": ".py",
   "mimetype": "text/x-python",
   "name": "python",
   "nbconvert_exporter": "python",
   "pygments_lexer": "ipython3",
   "version": "3.9.1"
  }
 },
 "nbformat": 4,
 "nbformat_minor": 4
}
