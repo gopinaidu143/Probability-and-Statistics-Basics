{
 "cells": [
  {
   "cell_type": "code",
   "execution_count": null,
   "metadata": {},
   "outputs": [],
   "source": []
  },
  {
   "cell_type": "code",
   "execution_count": 5,
   "metadata": {},
   "outputs": [
    {
     "name": "stdout",
     "output_type": "stream",
     "text": [
      "3.536 2.3263\n",
      "Reject NUll Hypothesis\n"
     ]
    }
   ],
   "source": [
    "\n",
    "'''Aim :Performing Z-test for testing the Null hypothesis for single and two meansusing python\n",
    "\n",
    "Write a python program  to perform z-test for testing the Null hypothesis for single mean at alpha \n",
    "level of significance.\n",
    "The mean breaking strength of cables supplied by a manufacturer is 1800 with a standard deviation 100. \n",
    "By a new technique in the manufacturing process, it is claimed that the breaking strength of the \n",
    "cables have increased. \n",
    "In order to test the claim, a sample of 50 cables is tested. It is found that the mean\n",
    "breaking strength is 1850. \n",
    "Can we support the claim at 0.01 level of significance'''\n",
    "    \n",
    "\n",
    "    \n",
    "# via critical values or tabulated values\n",
    "\n",
    "from numpy import sqrt, abs, round\n",
    "import scipy\n",
    "from scipy.stats import norm\n",
    "x_bar=1850\n",
    "mu=1800\n",
    "sd=100\n",
    "n=50\n",
    "los=0.01\n",
    "category=\"right\"\n",
    "def oneSampZ(x_bar, mu,sd, n, category):\n",
    "    pooledSE = sd/sqrt(n)\n",
    "    z = (x_bar - mu)/pooledSE\n",
    "    if category==\"two\" :\n",
    "        tab_value = scipy.stats.norm.ppf(1-los/2) # for two tail test\n",
    "    elif category==\"left\" : \n",
    "        tab_value = scipy.stats.norm.ppf(los)\n",
    "    else :\n",
    "        tab_value= scipy.stats.norm.ppf(1-los)\n",
    "    return round(z, 3), round(tab_value, 4)\n",
    "\n",
    "z, tab_value = oneSampZ(x_bar, mu, sd, n,category)\n",
    "\n",
    "print (z, tab_value)\n",
    "\n",
    "if(z <tab_value):\n",
    "    print(\"Accept Null Hypothesis\")\n",
    "else:\n",
    "    print(\"Reject NUll Hypothesis\")\n"
   ]
  },
  {
   "cell_type": "code",
   "execution_count": 7,
   "metadata": {},
   "outputs": [
    {
     "name": "stdout",
     "output_type": "stream",
     "text": [
      "-2.369 1.96\n",
      "Reject NUll Hypothesis\n"
     ]
    }
   ],
   "source": [
    "'''TWO means z test:\n",
    "The amount of a certain trace element in blood is known to vary with a standard deviation\n",
    "of 14.1 ppm (parts per million)\n",
    "for male blood donors and 9.5 ppm for female donors. Random samples of 75 male and \n",
    "50 female donors yield concentration\n",
    "means of 28 and 33 ppm, respectively. What is the likelihood that the population \n",
    "means of concentrations of the element are \n",
    "the same for men and women at 0.05 level of significance?'''\n",
    "\n",
    "\n",
    "# via critical values or tabulated values\n",
    "from numpy import sqrt, abs, round\n",
    "from scipy.stats import norm\n",
    "X1=28\n",
    "X2=33\n",
    "mudiff=0\n",
    "sd1=14.1\n",
    "sd2=9.5\n",
    "n1=75\n",
    "n2=50\n",
    "los=0.05\n",
    "category=\"two\"\n",
    "def twoSampZ(X1, X2, mudiff, sd1, sd2, n1, n2,category):\n",
    "    pooledSE = sqrt(sd1**2/n1 + sd2**2/n2)\n",
    "    z = ((X1 - X2) - mudiff)/pooledSE\n",
    "    if category==\"two\" :\n",
    "        tab_value = scipy.stats.norm.ppf(1-los/2) # for two tail test\n",
    "    elif category==\"left\" : \n",
    "        tab_value = scipy.stats.norm.ppf(los)\n",
    "    else :\n",
    "        tab_value= scipy.stats.norm.ppf(1-los)\n",
    "    return round(z, 3), round(tab_value, 4)\n",
    "\n",
    "z, tab_value = twoSampZ(X1, X2, mudiff, sd1, sd2, n1, n2,category)\n",
    "print (z, tab_value)\n",
    "\n",
    "if(abs(z) <tab_value):\n",
    "    print(\"Accept Null Hypothesis\")\n",
    "else:\n",
    "    print(\"Reject NUll Hypothesis\")\n"
   ]
  }
 ],
 "metadata": {
  "kernelspec": {
   "display_name": "Python 3 (ipykernel)",
   "language": "python",
   "name": "python3"
  },
  "language_info": {
   "codemirror_mode": {
    "name": "ipython",
    "version": 3
   },
   "file_extension": ".py",
   "mimetype": "text/x-python",
   "name": "python",
   "nbconvert_exporter": "python",
   "pygments_lexer": "ipython3",
   "version": "3.9.7"
  }
 },
 "nbformat": 4,
 "nbformat_minor": 4
}
